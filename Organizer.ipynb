{
  "nbformat": 4,
  "nbformat_minor": 0,
  "metadata": {
    "kernelspec": {
      "display_name": "Python 3",
      "language": "python",
      "name": "python3"
    },
    "language_info": {
      "codemirror_mode": {
        "name": "ipython",
        "version": 3
      },
      "file_extension": ".py",
      "mimetype": "text/x-python",
      "name": "python",
      "nbconvert_exporter": "python",
      "pygments_lexer": "ipython3",
      "version": "3.7.3"
    },
    "colab": {
      "name": "Organizer.ipynb",
      "provenance": [],
      "collapsed_sections": []
    }
  },
  "cells": [
    {
      "cell_type": "code",
      "metadata": {
        "id": "Flz1S6W2HnRF",
        "colab_type": "code",
        "colab": {}
      },
      "source": [
        "def lista(file_list):\n",
        "    title=[]\n",
        "    idx=[]\n",
        "    for file in file_list:\n",
        "        title.append(file['title'])\n",
        "        idx.append(file['id'])\n",
        "        \n",
        "    dictionary = dict(zip(title, idx))\n",
        "    \n",
        "    return title,dictionary"
      ],
      "execution_count": 0,
      "outputs": []
    },
    {
      "cell_type": "code",
      "metadata": {
        "id": "3V1oz2p0HnRL",
        "colab_type": "code",
        "colab": {}
      },
      "source": [
        "def load(last_path,helper_2):\n",
        "    file_h = drive.CreateFile({\"parents\": [{\"kind\": \"drive#fileLink\", \"id\": last_path}],\"title\": helper_2})\n",
        "    \n",
        "    destiny=drive.ListFile({'q': \"'\"+last_path+\"'\"+\" in parents and trashed=false\"}).GetList()\n",
        "\n",
        "    title,_=lista(destiny)\n",
        "    \n",
        "    if helper_2 not in title:\n",
        "    \n",
        "        \n",
        "        file_h.SetContentFile(file)\n",
        "        file_h.Upload() \n",
        "\n",
        "\n",
        "        #print(helper_2)"
      ],
      "execution_count": 0,
      "outputs": []
    },
    {
      "cell_type": "code",
      "metadata": {
        "id": "_kaGnStpHnRO",
        "colab_type": "code",
        "colab": {}
      },
      "source": [
        "def subdirectory(path,helper,i):\n",
        "    \n",
        "    letter=helper[i]\n",
        "              \n",
        "    sd = drive.CreateFile({'title':letter, \n",
        "                                                       \"parents\":  [{\"id\": path}], \n",
        "                                                       \"mimeType\": \"application/vnd.google-apps.folder\"}) \n",
        "    sd.Upload()\n",
        "\n",
        "    file_list = drive.ListFile({'q': \"'\"+path+\"'\"+\" in parents and trashed=false\"}).GetList()\n",
        "\n",
        "    title,dictionary=lista(file_list)\n",
        "\n",
        "    \n",
        "    if letter in title:\n",
        "        return_path = dictionary[letter]\n",
        "            \n",
        "                    \n",
        "    return return_path"
      ],
      "execution_count": 0,
      "outputs": []
    },
    {
      "cell_type": "code",
      "metadata": {
        "id": "xBp_fv5wHnRR",
        "colab_type": "code",
        "colab": {}
      },
      "source": [
        "def verification(file_list,helper):\n",
        "    helper_path=first_path\n",
        "    \n",
        "    file_list_helper=file_list\n",
        "\n",
        "    start_range=0\n",
        "    \n",
        "    title,dictionary=lista(file_list_helper)\n",
        "    \n",
        "    letter=helper[0]\n",
        "    \n",
        "     \n",
        "    if letter in title:\n",
        "        \n",
        "        helper_path = dictionary[letter]\n",
        "        file_list_helper = drive.ListFile({'q': \"'\"+helper_path+\"'\"+\" in parents and trashed=false\"}).GetList()\n",
        "        start_range+=1    \n",
        "        \n",
        "        for i in range(1,tree_depth):\n",
        "                \n",
        "                title,dictionary=lista(file_list_helper)\n",
        "\n",
        "                letter=helper[i]\n",
        "\n",
        "                \n",
        "                if letter in title:\n",
        "        \n",
        "                    helper_path = dictionary[letter]\n",
        "                    file_list_helper = drive.ListFile({'q': \"'\"+helper_path+\"'\"+\" in parents and trashed=false\"}).GetList()\n",
        "                    start_range+=1    \n",
        "\n",
        "                    \n",
        "                else:\n",
        "                    break                          \n",
        "            \n",
        "    return start_range,helper_path         "
      ],
      "execution_count": 0,
      "outputs": []
    },
    {
      "cell_type": "code",
      "metadata": {
        "id": "hxWNV2qhHnRU",
        "colab_type": "code",
        "colab": {}
      },
      "source": [
        "def main(file,filename,first_path,tree_depth):\n",
        "\n",
        "    \n",
        "    helper_2=filename.replace(\"*\",\"-\")\n",
        "    helper=helper_2.strip()\n",
        "\n",
        "    helper=helper.lower()\n",
        "    helper=helper.replace(\" \", \"\")\n",
        "\n",
        "    \n",
        "      \n",
        "    #directory_song_list=np.load('directory_song_list.npy',allow_pickle='TRUE').item()\n",
        "    \n",
        "    \n",
        "    if helper_2  in helper_2:\n",
        "\n",
        "        \n",
        "\n",
        "        direc_dic=np.load('directorio_dict.npy',allow_pickle='TRUE').item()\n",
        "\n",
        "        for i in range(tree_depth):\n",
        "            if i==0:\n",
        "                direc=helper[i]\n",
        "            else:\n",
        "                direc=direc+helper[i]\n",
        "\n",
        "                       \n",
        "\n",
        "        else:\n",
        "\n",
        "            file_list = drive.ListFile({'q': \"'\"+first_path+\"'\"+\" in parents and trashed=false\"}).GetList()\n",
        "\n",
        "\n",
        "            start_range, helper_path=verification(file_list,helper)\n",
        "\n",
        "            if start_range<tree_depth:\n",
        "\n",
        "                for i in range(start_range,tree_depth):\n",
        "                    helper_path=subdirectory(helper_path,helper,i)\n",
        "\n",
        "                subida(helper_path,helper_2)\n",
        "\n",
        "                direc_dic[direc]=helper_path\n",
        "                np.save('directorio_dict.npy', direc_dic) \n",
        "\n",
        "            if start_range==tree_depth:\n",
        "                subida(helper_path,helper_2)\n",
        "                direc_dic[direc]=helper_path\n",
        "                np.save('directorio_dict.npy', direc_dic) \n",
        "\n",
        "\n",
        "\n",
        "        \n",
        "         "
      ],
      "execution_count": 0,
      "outputs": []
    },
    {
      "cell_type": "code",
      "metadata": {
        "id": "CW7xLcFUHnRX",
        "colab_type": "code",
        "colab": {}
      },
      "source": [
        ""
      ],
      "execution_count": 0,
      "outputs": []
    }
  ]
}